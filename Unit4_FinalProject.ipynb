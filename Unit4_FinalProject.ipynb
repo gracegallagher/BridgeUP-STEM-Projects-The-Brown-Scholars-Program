{
  "nbformat": 4,
  "nbformat_minor": 0,
  "metadata": {
    "kernelspec": {
      "display_name": "Python 3",
      "language": "python",
      "name": "python3"
    },
    "language_info": {
      "codemirror_mode": {
        "name": "ipython",
        "version": 3
      },
      "file_extension": ".py",
      "mimetype": "text/x-python",
      "name": "python",
      "nbconvert_exporter": "python",
      "pygments_lexer": "ipython3",
      "version": "3.8.3"
    },
    "colab": {
      "name": "Unit4_FinalProject.ipynb",
      "provenance": []
    }
  },
  "cells": [
    {
      "cell_type": "code",
      "metadata": {
        "colab": {
          "base_uri": "https://localhost:8080/"
        },
        "id": "qSNyecXDswE_",
        "outputId": "611c01fc-118d-4e6d-83bd-78ae9719cffe"
      },
      "source": [
        "from google.colab import drive\n",
        "drive.mount('/content/drive')"
      ],
      "execution_count": null,
      "outputs": [
        {
          "output_type": "stream",
          "text": [
            "Mounted at /content/drive\n"
          ],
          "name": "stdout"
        }
      ]
    },
    {
      "cell_type": "markdown",
      "metadata": {
        "id": "JvDr-Uz1rtog"
      },
      "source": [
        "# Unit 4 Final Projects: Calculating evolutionary distance\n",
        "\n",
        "In this notebook you will compare the sequence of a particular gene from 3 different species to find out which two are most closely related. \n",
        "\n",
        "You will need to do the following:\n",
        "1. Open and read in your files\n",
        "2. Decide which sequences to compare (DNA, RNA, or protein), (you may have to look at all of them)\n",
        "3. Write code that prints out the percent similarity of each pair of sequences\n",
        "\n",
        "Note: Percent similarity can be taken by the following formula: `similarites * 100 / length of the shortest sequence`\n",
        " "
      ]
    },
    {
      "cell_type": "code",
      "metadata": {
        "id": "EyXovx_3rtoj"
      },
      "source": [
        "zebra = open(\"/content/drive/MyDrive/Colab Notebooks/3a_CYTB_DNA.txt\").read() #zebra\n",
        "rhino = open(\"/content/drive/MyDrive/Colab Notebooks/3b_CYTB_DNA.txt\").read() #black rhino\n",
        "elephant = open(\"/content/drive/MyDrive/Colab Notebooks/3c_CYTB_DNA.txt\").read() #elephant"
      ],
      "execution_count": null,
      "outputs": []
    },
    {
      "cell_type": "code",
      "metadata": {
        "collapsed": true,
        "colab": {
          "base_uri": "https://localhost:8080/"
        },
        "id": "0mjxSZXJrtoj",
        "outputId": "ff10918a-0f6b-4873-f490-c59218c7c0f0"
      },
      "source": [
        "numDifferences = 0\n",
        "\n",
        "for c, i in enumerate(zebra):\n",
        "  if rhino[c] !=i:\n",
        "   numDifferences += 1\n",
        "  elif elephant[c] != i: \n",
        "    numDifferences += 1\n",
        "print(numDifferences)"
      ],
      "execution_count": null,
      "outputs": [
        {
          "output_type": "stream",
          "text": [
            "415\n"
          ],
          "name": "stdout"
        }
      ]
    },
    {
      "cell_type": "code",
      "metadata": {
        "collapsed": true,
        "colab": {
          "base_uri": "https://localhost:8080/"
        },
        "id": "eu2yBsZSrtok",
        "outputId": "1df51853-296a-44d2-eec0-74ab0b8d8d74"
      },
      "source": [
        "if len(zebra)<=len(rhino):\n",
        "    shortest = zebra\n",
        "else:\n",
        "    shortest = rhino\n",
        "percent = 0.0\n",
        "for i, base in enumerate(zebra):\n",
        "    if rhino[i] == base:\n",
        "        percent += 1.0\n",
        "print(percent * 100 / len(shortest))"
      ],
      "execution_count": null,
      "outputs": [
        {
          "output_type": "stream",
          "text": [
            "84.21052631578948\n"
          ],
          "name": "stdout"
        }
      ]
    },
    {
      "cell_type": "code",
      "metadata": {
        "collapsed": true,
        "colab": {
          "base_uri": "https://localhost:8080/"
        },
        "id": "bbPkts2Prtok",
        "outputId": "9026e705-3c18-4e6e-c493-68b11cc0e108"
      },
      "source": [
        "if len(rhino)<=len(elephant):\n",
        "    shortest = rhino\n",
        "else:\n",
        "    shortest = elephant\n",
        "percent = 0.0\n",
        "for i, base in enumerate(rhino):\n",
        "    if elephant[i] == base:\n",
        "        percent += 1.0\n",
        "print(percent * 100 / len(shortest))"
      ],
      "execution_count": null,
      "outputs": [
        {
          "output_type": "stream",
          "text": [
            "69.3859649122807\n"
          ],
          "name": "stdout"
        }
      ]
    },
    {
      "cell_type": "code",
      "metadata": {
        "colab": {
          "base_uri": "https://localhost:8080/"
        },
        "id": "oinNm8kv29yN",
        "outputId": "61b2eaef-cbf7-48e8-8cdf-422f86ada950"
      },
      "source": [
        "if len(elephant)<=len(zebra):\n",
        "    shortest = elephant\n",
        "else:\n",
        "    shortest = zebra\n",
        "percent = 0.0\n",
        "for i, base in enumerate(elephant):\n",
        "    if zebra[i] == base:\n",
        "        percent += 1.0\n",
        "print(percent * 100 / len(shortest))"
      ],
      "execution_count": null,
      "outputs": [
        {
          "output_type": "stream",
          "text": [
            "68.94736842105263\n"
          ],
          "name": "stdout"
        }
      ]
    },
    {
      "cell_type": "markdown",
      "metadata": {
        "id": "4L-6ZYrVrtok"
      },
      "source": [
        "## Bonus Challenge\n",
        "\n",
        "Visualize your results! Choose a graph type that you think will communicate your conclusions effectively and create it using matplotlib:"
      ]
    },
    {
      "cell_type": "code",
      "metadata": {
        "colab": {
          "base_uri": "https://localhost:8080/",
          "height": 164
        },
        "id": "z7syCm2Lrtol",
        "outputId": "181947a4-4cbe-4c2e-ccd9-cf9088dd2199"
      },
      "source": [
        "import matplotlib.pyplot as plt\n",
        "plt.bar(0, zebra_rhino, color = \"red\")\n",
        "plt.bar(1, zebra_elephant, color = \"pink\")\n",
        "plt.bar(2, rhino_elephant, color = \"lightblue\")\n",
        "plt.yticks(range(0,101,10))\n",
        "plt.ylim(0,100)\n",
        "labels = (str(zebra_rhino) + \"% Similarity Between Zebra and Black Rhino\",\n",
        "          str(zebra_elephant) + \"% Similarity Between Zebra and African Elephant\",\n",
        "          str(rhino_elephant) + \"% Similarity Between Black Rhinos and African Elephants\"]"
      ],
      "execution_count": null,
      "outputs": [
        {
          "output_type": "error",
          "ename": "SyntaxError",
          "evalue": "ignored",
          "traceback": [
            "\u001b[0;36m  File \u001b[0;32m\"<ipython-input-8-1991a8b0c2d4>\"\u001b[0;36m, line \u001b[0;32m9\u001b[0m\n\u001b[0;31m    str(rhino_elephant) + \"% Similarity Between Black Rhinos and African Elephants\"]\u001b[0m\n\u001b[0m                                                                                   ^\u001b[0m\n\u001b[0;31mSyntaxError\u001b[0m\u001b[0;31m:\u001b[0m invalid syntax\n"
          ]
        }
      ]
    },
    {
      "cell_type": "markdown",
      "metadata": {
        "id": "2kVZooPXrtol"
      },
      "source": [
        "## Bonus Challenge 2\n",
        "If you finish your project and want to try a challenge, come up with a hypothesis about which of the following species are most closely related to humans (carp, chicken, chimp, dog, eel, elephant, frog, gorilla, macaque monkey, mouse, orangutan, pig). Write out a ranked list with the species you think is most related to humans at the top.\n",
        "\n",
        "Then calculate the percent difference between the hemoglobin amino acid sequences of humans and each species to find out how close you came to the right ranking!"
      ]
    },
    {
      "cell_type": "code",
      "metadata": {
        "id": "I3U_HUJR-Tqu"
      },
      "source": [
        ""
      ],
      "execution_count": null,
      "outputs": []
    },
    {
      "cell_type": "code",
      "metadata": {
        "collapsed": true,
        "colab": {
          "base_uri": "https://localhost:8080/",
          "height": 266
        },
        "id": "66k6iadgrtom",
        "outputId": "1bd47170-3d91-499c-854b-2f92807964ef"
      },
      "source": [
        "zebra = 100\n",
        "elaphant = 100\n",
        "rhino = 100\n",
        "# plt.bar(0, zebra, color= 'blue')\n",
        "# plt.bar(1, elaphant, color='red')\n",
        "# plt.bar(2, rhino, color='purple')\n",
        "plt.bar(0, Zebra_Rhino, color=\"Black\")\n",
        "plt.bar(1, Elephant_Zebra, color='orange')\n",
        "plt.bar(2, Rhino_Elephant, color='gray')\n",
        "plt.yticks(range(0, 101, 10))\n",
        "plt.ylim(0, 100)\n",
        "labels = [\"The Zebra & Rhino DNA similarity is \" + str(round(Zebra_Rhino, 1)) + \"%\",\n",
        "          \"The Rhino & Elephant DNA similarities \" + str(round(Rhino_Elephant, 1)) + \"%\", \"The Elephant & Zebra DNA simiarity is \" + \n",
        "          str(round(Elephant_Zebra, 1)) + \"%\"]\n",
        "# sizes = [Zebra_Rhino, Zebra_Elephant, Elephant_Rhino]\n",
        "colors = ['black', 'orange', 'gray']\n",
        "plt.legend(labels, loc = \"lower right\")\n",
        "plt.show()"
      ],
      "execution_count": null,
      "outputs": [
        {
          "output_type": "error",
          "ename": "NameError",
          "evalue": "ignored",
          "traceback": [
            "\u001b[0;31m---------------------------------------------------------------------------\u001b[0m",
            "\u001b[0;31mNameError\u001b[0m                                 Traceback (most recent call last)",
            "\u001b[0;32m<ipython-input-10-e97d8e706dc9>\u001b[0m in \u001b[0;36m<module>\u001b[0;34m()\u001b[0m\n\u001b[1;32m      5\u001b[0m \u001b[0;31m# plt.bar(1, elaphant, color='red')\u001b[0m\u001b[0;34m\u001b[0m\u001b[0;34m\u001b[0m\u001b[0;34m\u001b[0m\u001b[0m\n\u001b[1;32m      6\u001b[0m \u001b[0;31m# plt.bar(2, rhino, color='purple')\u001b[0m\u001b[0;34m\u001b[0m\u001b[0;34m\u001b[0m\u001b[0;34m\u001b[0m\u001b[0m\n\u001b[0;32m----> 7\u001b[0;31m \u001b[0mplt\u001b[0m\u001b[0;34m.\u001b[0m\u001b[0mbar\u001b[0m\u001b[0;34m(\u001b[0m\u001b[0;36m0\u001b[0m\u001b[0;34m,\u001b[0m \u001b[0mZebra_Rhino\u001b[0m\u001b[0;34m,\u001b[0m \u001b[0mcolor\u001b[0m\u001b[0;34m=\u001b[0m\u001b[0;34m\"Black\"\u001b[0m\u001b[0;34m)\u001b[0m\u001b[0;34m\u001b[0m\u001b[0;34m\u001b[0m\u001b[0m\n\u001b[0m\u001b[1;32m      8\u001b[0m \u001b[0mplt\u001b[0m\u001b[0;34m.\u001b[0m\u001b[0mbar\u001b[0m\u001b[0;34m(\u001b[0m\u001b[0;36m1\u001b[0m\u001b[0;34m,\u001b[0m \u001b[0mElephant_Zebra\u001b[0m\u001b[0;34m,\u001b[0m \u001b[0mcolor\u001b[0m\u001b[0;34m=\u001b[0m\u001b[0;34m'orange'\u001b[0m\u001b[0;34m)\u001b[0m\u001b[0;34m\u001b[0m\u001b[0;34m\u001b[0m\u001b[0m\n\u001b[1;32m      9\u001b[0m \u001b[0mplt\u001b[0m\u001b[0;34m.\u001b[0m\u001b[0mbar\u001b[0m\u001b[0;34m(\u001b[0m\u001b[0;36m2\u001b[0m\u001b[0;34m,\u001b[0m \u001b[0mRhino_Elephant\u001b[0m\u001b[0;34m,\u001b[0m \u001b[0mcolor\u001b[0m\u001b[0;34m=\u001b[0m\u001b[0;34m'gray'\u001b[0m\u001b[0;34m)\u001b[0m\u001b[0;34m\u001b[0m\u001b[0;34m\u001b[0m\u001b[0m\n",
            "\u001b[0;31mNameError\u001b[0m: name 'plt' is not defined"
          ]
        }
      ]
    }
  ]
}